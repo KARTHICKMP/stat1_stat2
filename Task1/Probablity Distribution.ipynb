{
 "cells": [
  {
   "cell_type": "markdown",
   "metadata": {},
   "source": [
    "###### 3. In a class on 100 students, 80 students passed in all subjects, 10 failed in one subject, 7 failed in two subjects and 3 failed in three subjects. Find the probability distribution of the variable for number of subjects a student from the given class has failed in."
   ]
  },
  {
   "cell_type": "code",
   "execution_count": 4,
   "metadata": {},
   "outputs": [],
   "source": [
    "import numpy as np"
   ]
  },
  {
   "cell_type": "code",
   "execution_count": 5,
   "metadata": {},
   "outputs": [],
   "source": [
    "totalStudents = 100\n",
    "students_Passed_all = 80\n",
    "students_Failed_one = 10\n",
    "students_Failed_two = 7\n",
    "students_Failed_three = 3"
   ]
  },
  {
   "cell_type": "code",
   "execution_count": 14,
   "metadata": {},
   "outputs": [
    {
     "name": "stdout",
     "output_type": "stream",
     "text": [
      "The probability of failing in 0 subjects, P(X=0):  0.8\n"
     ]
    }
   ],
   "source": [
    "print(\"The probability of failing in 0 subjects, P(X=0): \", students_Passed_all/totalStudents)"
   ]
  },
  {
   "cell_type": "code",
   "execution_count": 15,
   "metadata": {},
   "outputs": [
    {
     "name": "stdout",
     "output_type": "stream",
     "text": [
      "The probability of failing in 1 subjects, P(X=1):  0.1\n"
     ]
    }
   ],
   "source": [
    "print(\"The probability of failing in 1 subjects, P(X=1): \", students_Failed_one/totalStudents)"
   ]
  },
  {
   "cell_type": "code",
   "execution_count": 16,
   "metadata": {},
   "outputs": [
    {
     "name": "stdout",
     "output_type": "stream",
     "text": [
      "The probability of failing in 2 subjects, P(X=2):  0.07\n"
     ]
    }
   ],
   "source": [
    "print(\"The probability of failing in 2 subjects, P(X=2): \", students_Failed_two/totalStudents)"
   ]
  },
  {
   "cell_type": "code",
   "execution_count": 17,
   "metadata": {},
   "outputs": [
    {
     "name": "stdout",
     "output_type": "stream",
     "text": [
      "The probability of failing in 3 subjects, P(X=3):  0.03\n"
     ]
    }
   ],
   "source": [
    "print(\"The probability of failing in 3 subjects, P(X=3): \", students_Failed_three/totalStudents)"
   ]
  },
  {
   "cell_type": "code",
   "execution_count": null,
   "metadata": {},
   "outputs": [],
   "source": []
  }
 ],
 "metadata": {
  "kernelspec": {
   "display_name": "Python 3",
   "language": "python",
   "name": "python3"
  },
  "language_info": {
   "codemirror_mode": {
    "name": "ipython",
    "version": 3
   },
   "file_extension": ".py",
   "mimetype": "text/x-python",
   "name": "python",
   "nbconvert_exporter": "python",
   "pygments_lexer": "ipython3",
   "version": "3.6.6"
  }
 },
 "nbformat": 4,
 "nbformat_minor": 2
}

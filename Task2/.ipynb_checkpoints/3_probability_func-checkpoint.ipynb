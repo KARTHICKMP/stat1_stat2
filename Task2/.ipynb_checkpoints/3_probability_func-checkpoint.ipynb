{
 "cells": [
  {
   "cell_type": "markdown",
   "metadata": {},
   "source": [
    "###### Two balls are drawn at random in succession without replacement from an urn containing 4 red balls and 6 black balls.\n",
    "\n",
    "###### Find the probabilities of all the possible outcomes."
   ]
  },
  {
   "cell_type": "code",
   "execution_count": 2,
   "metadata": {},
   "outputs": [],
   "source": [
    "total_balls = 10\n",
    "red_balls = 4\n",
    "black_balls = 6"
   ]
  },
  {
   "cell_type": "code",
   "execution_count": 3,
   "metadata": {},
   "outputs": [
    {
     "name": "stdout",
     "output_type": "stream",
     "text": [
      "Probability of red balls 0.4\n",
      "probability of black balls 0.6\n"
     ]
    }
   ],
   "source": [
    "print(\"Probability of red balls\", red_balls/total_balls)\n",
    "print(\"probability of black balls\", black_balls/total_balls)"
   ]
  },
  {
   "cell_type": "code",
   "execution_count": null,
   "metadata": {},
   "outputs": [],
   "source": []
  }
 ],
 "metadata": {
  "kernelspec": {
   "display_name": "Python 3",
   "language": "python",
   "name": "python3"
  },
  "language_info": {
   "codemirror_mode": {
    "name": "ipython",
    "version": 3
   },
   "file_extension": ".py",
   "mimetype": "text/x-python",
   "name": "python",
   "nbconvert_exporter": "python",
   "pygments_lexer": "ipython3",
   "version": "3.6.6"
  }
 },
 "nbformat": 4,
 "nbformat_minor": 2
}
